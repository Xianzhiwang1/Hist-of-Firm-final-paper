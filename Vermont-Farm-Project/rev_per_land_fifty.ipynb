{
 "cells": [
  {
   "cell_type": "code",
   "execution_count": 1,
   "metadata": {},
   "outputs": [],
   "source": [
    "import numpy as np\n",
    "import pandas as pd\n",
    "import seaborn as sns\n",
    "from sklearn.linear_model import LinearRegression\n",
    "from sklearn.linear_model import LogisticRegression\n",
    "from source import Vermont_Farm\n",
    "from statsmodels.compat import lzip\n",
    "import numpy as np\n",
    "import pandas as pd\n",
    "import statsmodels.formula.api as smf\n",
    "import statsmodels.stats.api as sms\n",
    "import matplotlib.pyplot as plt\n",
    "from stargazer.stargazer import Stargazer"
   ]
  },
  {
   "cell_type": "code",
   "execution_count": 2,
   "metadata": {},
   "outputs": [],
   "source": [
    "%load_ext autoreload\n",
    "%autoreload 2"
   ]
  },
  {
   "cell_type": "code",
   "execution_count": 3,
   "metadata": {},
   "outputs": [],
   "source": [
    "VF = Vermont_Farm()\n",
    "# df = pd.read_csv('./1850final_w_TotalOutput.csv')"
   ]
  },
  {
   "attachments": {},
   "cell_type": "markdown",
   "metadata": {},
   "source": [
    "# Revenue per Land as dependent variable"
   ]
  },
  {
   "cell_type": "code",
   "execution_count": 4,
   "metadata": {},
   "outputs": [
    {
     "data": {
      "text/html": [
       "<div>\n",
       "<style scoped>\n",
       "    .dataframe tbody tr th:only-of-type {\n",
       "        vertical-align: middle;\n",
       "    }\n",
       "\n",
       "    .dataframe tbody tr th {\n",
       "        vertical-align: top;\n",
       "    }\n",
       "\n",
       "    .dataframe thead th {\n",
       "        text-align: right;\n",
       "    }\n",
       "</style>\n",
       "<table border=\"1\" class=\"dataframe\">\n",
       "  <thead>\n",
       "    <tr style=\"text-align: right;\">\n",
       "      <th></th>\n",
       "      <th>improved</th>\n",
       "      <th>machine_val</th>\n",
       "      <th>horse</th>\n",
       "      <th>mules</th>\n",
       "      <th>milkcow</th>\n",
       "      <th>oxen</th>\n",
       "      <th>cattle</th>\n",
       "      <th>sheep</th>\n",
       "      <th>swine</th>\n",
       "      <th>livestock_val</th>\n",
       "      <th>...</th>\n",
       "      <th>hemp_waterrot</th>\n",
       "      <th>flax</th>\n",
       "      <th>flaxseed</th>\n",
       "      <th>silk</th>\n",
       "      <th>maplesugar</th>\n",
       "      <th>canesugar</th>\n",
       "      <th>molasses</th>\n",
       "      <th>beewax</th>\n",
       "      <th>manufactures_val</th>\n",
       "      <th>animals_val</th>\n",
       "    </tr>\n",
       "  </thead>\n",
       "  <tbody>\n",
       "    <tr>\n",
       "      <th>0</th>\n",
       "      <td>48</td>\n",
       "      <td>100</td>\n",
       "      <td>3</td>\n",
       "      <td>0</td>\n",
       "      <td>4</td>\n",
       "      <td>0</td>\n",
       "      <td>0</td>\n",
       "      <td>0</td>\n",
       "      <td>2</td>\n",
       "      <td>450</td>\n",
       "      <td>...</td>\n",
       "      <td>0</td>\n",
       "      <td>0</td>\n",
       "      <td>0</td>\n",
       "      <td>0</td>\n",
       "      <td>0</td>\n",
       "      <td>0</td>\n",
       "      <td>0</td>\n",
       "      <td>0</td>\n",
       "      <td>0</td>\n",
       "      <td>40</td>\n",
       "    </tr>\n",
       "  </tbody>\n",
       "</table>\n",
       "<p>1 rows × 42 columns</p>\n",
       "</div>"
      ],
      "text/plain": [
       "   improved  machine_val  horse  mules  milkcow  oxen  cattle  sheep  swine   \n",
       "0        48          100      3      0        4     0       0      0      2  \\\n",
       "\n",
       "   livestock_val  ...  hemp_waterrot  flax  flaxseed  silk  maplesugar   \n",
       "0            450  ...              0     0         0     0           0  \\\n",
       "\n",
       "   canesugar  molasses  beewax  manufactures_val  animals_val  \n",
       "0          0         0       0                 0           40  \n",
       "\n",
       "[1 rows x 42 columns]"
      ]
     },
     "execution_count": 4,
     "metadata": {},
     "output_type": "execute_result"
    }
   ],
   "source": [
    "df_diversity = pd.read_csv('1850final.csv')\n",
    "df_diversity = df_diversity.drop(['Name', 'town', 'unimproved', 'cash_val', 'produce_val', 'pg_num', 'year', 'rown'], axis=1)\n",
    "df_diversity.head(1)"
   ]
  },
  {
   "cell_type": "code",
   "execution_count": 5,
   "metadata": {},
   "outputs": [
    {
     "name": "stdout",
     "output_type": "stream",
     "text": [
      "(170, 42)\n",
      "(170, 42)\n"
     ]
    }
   ],
   "source": [
    "df_diversity = df_diversity.to_numpy()\n",
    "print(df_diversity.shape)\n",
    "df_diversity = 1 * (df_diversity > 0)\n",
    "print(df_diversity.shape)"
   ]
  },
  {
   "cell_type": "code",
   "execution_count": 6,
   "metadata": {},
   "outputs": [
    {
     "name": "stdout",
     "output_type": "stream",
     "text": [
      "(170,)\n"
     ]
    }
   ],
   "source": [
    "df3 = pd.read_csv('./1850final_w_TotalOutput.csv')\n",
    "div_score = np.sum(df_diversity, axis=1)\n",
    "print(div_score.shape)\n",
    "df3['diversity_score'] = div_score"
   ]
  },
  {
   "cell_type": "code",
   "execution_count": 7,
   "metadata": {},
   "outputs": [],
   "source": [
    "entropy_score = df3[\"entropy_score\"].to_numpy()\n",
    "df3['diversity_squared'] = np.square(div_score)\n",
    "df3['e_to_diversity'] = np.exp(div_score)\n",
    "df3['entropy_squared'] = np.square(entropy_score)"
   ]
  },
  {
   "attachments": {},
   "cell_type": "markdown",
   "metadata": {},
   "source": [
    "# generated diversity score"
   ]
  },
  {
   "cell_type": "code",
   "execution_count": 8,
   "metadata": {},
   "outputs": [
    {
     "name": "stdout",
     "output_type": "stream",
     "text": [
      "                            OLS Regression Results                            \n",
      "==============================================================================\n",
      "Dep. Variable:       revenue_per_land   R-squared:                       0.045\n",
      "Model:                            OLS   Adj. R-squared:                  0.028\n",
      "Method:                 Least Squares   F-statistic:                     2.605\n",
      "Date:                Wed, 17 May 2023   Prob (F-statistic):             0.0536\n",
      "Time:                        22:08:30   Log-Likelihood:                -917.95\n",
      "No. Observations:                 170   AIC:                             1844.\n",
      "Df Residuals:                     166   BIC:                             1856.\n",
      "Df Model:                           3                                         \n",
      "Covariance Type:            nonrobust                                         \n",
      "===================================================================================\n",
      "                      coef    std err          t      P>|t|      [0.025      0.975]\n",
      "-----------------------------------------------------------------------------------\n",
      "Intercept          39.7288     31.098      1.278      0.203     -21.670     101.127\n",
      "diversity_score     3.2195      1.750      1.839      0.068      -0.236       6.675\n",
      "improved           -0.1639      0.065     -2.511      0.013      -0.293      -0.035\n",
      "unimproved          0.0167      0.053      0.317      0.751      -0.087       0.121\n",
      "==============================================================================\n",
      "Omnibus:                       91.701   Durbin-Watson:                   1.835\n",
      "Prob(Omnibus):                  0.000   Jarque-Bera (JB):              457.691\n",
      "Skew:                           2.028   Prob(JB):                    4.11e-100\n",
      "Kurtosis:                       9.940   Cond. No.                         915.\n",
      "==============================================================================\n",
      "\n",
      "Notes:\n",
      "[1] Standard Errors assume that the covariance matrix of the errors is correctly specified.\n"
     ]
    }
   ],
   "source": [
    "cols2 = ['improved', 'unimproved', \n",
    "       'machine_val', 'horse', 'mules']\n",
    "# Fit regression model (using the natural log of one of the regressors)\n",
    "# results = smf.ols(\"Lottery ~ Literacy + np.log(Pop1831)\", data=dat).fit()\n",
    "reg1 = smf.ols(\"revenue_per_land ~ diversity_score\", data=df3).fit()\n",
    "# print(reg1.summary())\n",
    "reg2 = smf.ols(\"revenue_per_land ~ diversity_score + improved + unimproved\", data=df3).fit()\n",
    "print(reg2.summary())"
   ]
  },
  {
   "cell_type": "code",
   "execution_count": 19,
   "metadata": {},
   "outputs": [
    {
     "name": "stdout",
     "output_type": "stream",
     "text": [
      "                            OLS Regression Results                            \n",
      "==============================================================================\n",
      "Dep. Variable:       revenue_per_land   R-squared:                       0.223\n",
      "Model:                            OLS   Adj. R-squared:                  0.199\n",
      "Method:                 Least Squares   F-statistic:                     9.393\n",
      "Date:                Wed, 17 May 2023   Prob (F-statistic):           6.88e-08\n",
      "Time:                        22:11:26   Log-Likelihood:                -900.46\n",
      "No. Observations:                 170   AIC:                             1813.\n",
      "Df Residuals:                     164   BIC:                             1832.\n",
      "Df Model:                           5                                         \n",
      "Covariance Type:            nonrobust                                         \n",
      "=================================================================================\n",
      "                    coef    std err          t      P>|t|      [0.025      0.975]\n",
      "---------------------------------------------------------------------------------\n",
      "Intercept        81.4321     15.850      5.138      0.000      50.136     112.728\n",
      "entropy_score    -8.9141     16.478     -0.541      0.589     -41.451      23.623\n",
      "machine_val       0.4247      0.077      5.528      0.000       0.273       0.576\n",
      "cash_val         -0.0176      0.003     -5.274      0.000      -0.024      -0.011\n",
      "livestock_val     0.0331      0.016      2.018      0.045       0.001       0.065\n",
      "animals_val      -0.0370      0.047     -0.786      0.433      -0.130       0.056\n",
      "==============================================================================\n",
      "Omnibus:                      116.549   Durbin-Watson:                   1.832\n",
      "Prob(Omnibus):                  0.000   Jarque-Bera (JB):              908.675\n",
      "Skew:                           2.523   Prob(JB):                    4.83e-198\n",
      "Kurtosis:                      13.140   Cond. No.                     1.88e+04\n",
      "==============================================================================\n",
      "\n",
      "Notes:\n",
      "[1] Standard Errors assume that the covariance matrix of the errors is correctly specified.\n",
      "[2] The condition number is large, 1.88e+04. This might indicate that there are\n",
      "strong multicollinearity or other numerical problems.\n"
     ]
    }
   ],
   "source": [
    "reg3 = smf.ols(\"revenue_per_land ~ diversity_score + diversity_squared + improved + unimproved\", data=df3).fit()\n",
    "reg4 = smf.ols(\"revenue_per_land ~ entropy_score + improved + unimproved\", data=df3).fit()\n",
    "reg5 = smf.ols(\"revenue_per_land ~ entropy_score + entropy_squared + improved + unimproved\", data=df3).fit()\n",
    "reg6 = smf.ols(\"revenue_per_land ~ entropy_score + machine_val + cash_val\", data=df3).fit()\n",
    "reg7 = smf.ols(\"revenue_per_land ~ entropy_score + machine_val + cash_val + livestock_val + animals_val\", data=df3).fit()\n",
    "print(reg7.summary())"
   ]
  },
  {
   "cell_type": "code",
   "execution_count": 20,
   "metadata": {},
   "outputs": [
    {
     "name": "stdout",
     "output_type": "stream",
     "text": [
      "                            OLS Regression Results                            \n",
      "==============================================================================\n",
      "Dep. Variable:       revenue_per_land   R-squared:                       0.202\n",
      "Model:                            OLS   Adj. R-squared:                  0.188\n",
      "Method:                 Least Squares   F-statistic:                     14.04\n",
      "Date:                Wed, 17 May 2023   Prob (F-statistic):           3.36e-08\n",
      "Time:                        22:11:27   Log-Likelihood:                -902.65\n",
      "No. Observations:                 170   AIC:                             1813.\n",
      "Df Residuals:                     166   BIC:                             1826.\n",
      "Df Model:                           3                                         \n",
      "Covariance Type:            nonrobust                                         \n",
      "=================================================================================\n",
      "                    coef    std err          t      P>|t|      [0.025      0.975]\n",
      "---------------------------------------------------------------------------------\n",
      "Intercept        73.1976     15.444      4.740      0.000      42.706     103.690\n",
      "entropy_score     4.5215     15.039      0.301      0.764     -25.170      34.213\n",
      "machine_val       0.4488      0.076      5.904      0.000       0.299       0.599\n",
      "cash_val         -0.0154      0.003     -4.991      0.000      -0.021      -0.009\n",
      "==============================================================================\n",
      "Omnibus:                      115.882   Durbin-Watson:                   1.879\n",
      "Prob(Omnibus):                  0.000   Jarque-Bera (JB):              865.727\n",
      "Skew:                           2.525   Prob(JB):                    1.02e-188\n",
      "Kurtosis:                      12.834   Cond. No.                     1.75e+04\n",
      "==============================================================================\n",
      "\n",
      "Notes:\n",
      "[1] Standard Errors assume that the covariance matrix of the errors is correctly specified.\n",
      "[2] The condition number is large, 1.75e+04. This might indicate that there are\n",
      "strong multicollinearity or other numerical problems.\n"
     ]
    }
   ],
   "source": [
    "print(reg6.summary())"
   ]
  },
  {
   "cell_type": "code",
   "execution_count": 21,
   "metadata": {},
   "outputs": [],
   "source": [
    "stargazer = Stargazer([reg1, reg2, reg3, reg4, reg5, reg7])"
   ]
  },
  {
   "cell_type": "code",
   "execution_count": 22,
   "metadata": {},
   "outputs": [
    {
     "name": "stdout",
     "output_type": "stream",
     "text": [
      "\\begin{table}[!htbp] \\centering\n",
      "\\begin{tabular}{@{\\extracolsep{5pt}}lcccccc}\n",
      "\\\\[-1.8ex]\\hline\n",
      "\\hline \\\\[-1.8ex]\n",
      "& \\multicolumn{6}{c}{\\textit{Dependent variable:}} \\\n",
      "\\cr \\cline{6-7}\n",
      "\\\\[-1.8ex] & (1) & (2) & (3) & (4) & (5) & (6) \\\\\n",
      "\\hline \\\\[-1.8ex]\n",
      " Intercept & 49.626$^{}$ & 39.729$^{}$ & -203.316$^{}$ & 124.395$^{***}$ & 106.805$^{***}$ & 81.432$^{***}$ \\\\\n",
      "  & (30.967) & (31.098) & (181.676) & (14.193) & (34.288) & (15.850) \\\\\n",
      " animals_val & & & & & & -0.037$^{}$ \\\\\n",
      "  & & & & & & (0.047) \\\\\n",
      " cash_val & & & & & & -0.018$^{***}$ \\\\\n",
      "  & & & & & & (0.003) \\\\\n",
      " diversity_score & 1.986$^{}$ & 3.219$^{*}$ & 31.172$^{}$ & & & \\\\\n",
      "  & (1.674) & (1.750) & (20.661) & & & \\\\\n",
      " diversity_squared & & & -0.788$^{}$ & & & \\\\\n",
      "  & & & (0.581) & & & \\\\\n",
      " entropy_score & & & & -33.190$^{**}$ & 8.591$^{}$ & -8.914$^{}$ \\\\\n",
      "  & & & & (14.611) & (75.537) & (16.478) \\\\\n",
      " entropy_squared & & & & & -22.975$^{}$ & \\\\\n",
      "  & & & & & (40.750) & \\\\\n",
      " improved & & -0.164$^{**}$ & -0.160$^{**}$ & -0.118$^{*}$ & -0.114$^{*}$ & \\\\\n",
      "  & & (0.065) & (0.065) & (0.063) & (0.064) & \\\\\n",
      " livestock_val & & & & & & 0.033$^{**}$ \\\\\n",
      "  & & & & & & (0.016) \\\\\n",
      " machine_val & & & & & & 0.425$^{***}$ \\\\\n",
      "  & & & & & & (0.077) \\\\\n",
      " unimproved & & 0.017$^{}$ & 0.021$^{}$ & 0.020$^{}$ & 0.022$^{}$ & \\\\\n",
      "  & & (0.053) & (0.053) & (0.052) & (0.052) & \\\\\n",
      "\\hline \\\\[-1.8ex]\n",
      " Observations & 170 & 170 & 170 & 170 & 170 & 170 \\\\\n",
      " $R^2$ & 0.008 & 0.045 & 0.056 & 0.055 & 0.057 & 0.223 \\\\\n",
      " Adjusted $R^2$ & 0.002 & 0.028 & 0.033 & 0.038 & 0.034 & 0.199 \\\\\n",
      " Residual Std. Error & 54.901(df = 168) & 54.201(df = 166) & 54.064(df = 165) & 53.919(df = 166) & 54.030(df = 165) & 49.198(df = 164)  \\\\\n",
      " F Statistic & 1.407$^{}$ (df = 1.0; 168.0) & 2.605$^{*}$ (df = 3.0; 166.0) & 2.424$^{*}$ (df = 4.0; 165.0) & 3.212$^{**}$ (df = 3.0; 166.0) & 2.479$^{**}$ (df = 4.0; 165.0) & 9.393$^{***}$ (df = 5.0; 164.0) \\\\\n",
      "\\hline\n",
      "\\hline \\\\[-1.8ex]\n",
      "\\textit{Note:} & \\multicolumn{6}{r}{$^{*}$p$<$0.1; $^{**}$p$<$0.05; $^{***}$p$<$0.01} \\\\\n",
      "\\end{tabular}\n",
      "\\end{table}\n"
     ]
    }
   ],
   "source": [
    "print(stargazer.render_latex())"
   ]
  }
 ],
 "metadata": {
  "kernelspec": {
   "display_name": "ml-0451",
   "language": "python",
   "name": "python3"
  },
  "language_info": {
   "codemirror_mode": {
    "name": "ipython",
    "version": 3
   },
   "file_extension": ".py",
   "mimetype": "text/x-python",
   "name": "python",
   "nbconvert_exporter": "python",
   "pygments_lexer": "ipython3",
   "version": "3.9.16"
  },
  "orig_nbformat": 4
 },
 "nbformat": 4,
 "nbformat_minor": 2
}
