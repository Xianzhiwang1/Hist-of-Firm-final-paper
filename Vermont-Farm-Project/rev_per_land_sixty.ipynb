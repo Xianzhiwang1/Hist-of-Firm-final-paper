{
 "cells": [
  {
   "cell_type": "code",
   "execution_count": 1,
   "metadata": {},
   "outputs": [],
   "source": [
    "import numpy as np\n",
    "import pandas as pd\n",
    "import seaborn as sns\n",
    "from sklearn.linear_model import LinearRegression\n",
    "from sklearn.linear_model import LogisticRegression\n",
    "from source import Vermont_Farm\n",
    "from statsmodels.compat import lzip\n",
    "import numpy as np\n",
    "import pandas as pd\n",
    "import statsmodels.formula.api as smf\n",
    "import statsmodels.stats.api as sms\n",
    "import matplotlib.pyplot as plt\n",
    "from stargazer.stargazer import Stargazer"
   ]
  },
  {
   "cell_type": "code",
   "execution_count": 2,
   "metadata": {},
   "outputs": [],
   "source": [
    "%load_ext autoreload\n",
    "%autoreload 2"
   ]
  },
  {
   "cell_type": "code",
   "execution_count": 3,
   "metadata": {},
   "outputs": [],
   "source": [
    "VF = Vermont_Farm()\n",
    "# df = pd.read_csv('./1850final_w_TotalOutput.csv')"
   ]
  },
  {
   "attachments": {},
   "cell_type": "markdown",
   "metadata": {},
   "source": [
    "# Revenue per Land as dependent variable"
   ]
  },
  {
   "cell_type": "code",
   "execution_count": 4,
   "metadata": {},
   "outputs": [
    {
     "data": {
      "text/html": [
       "<div>\n",
       "<style scoped>\n",
       "    .dataframe tbody tr th:only-of-type {\n",
       "        vertical-align: middle;\n",
       "    }\n",
       "\n",
       "    .dataframe tbody tr th {\n",
       "        vertical-align: top;\n",
       "    }\n",
       "\n",
       "    .dataframe thead th {\n",
       "        text-align: right;\n",
       "    }\n",
       "</style>\n",
       "<table border=\"1\" class=\"dataframe\">\n",
       "  <thead>\n",
       "    <tr style=\"text-align: right;\">\n",
       "      <th></th>\n",
       "      <th>improved</th>\n",
       "      <th>machine_val</th>\n",
       "      <th>horse</th>\n",
       "      <th>mules</th>\n",
       "      <th>milkcow</th>\n",
       "      <th>oxen</th>\n",
       "      <th>cattle</th>\n",
       "      <th>sheep</th>\n",
       "      <th>swine</th>\n",
       "      <th>livestock_val</th>\n",
       "      <th>...</th>\n",
       "      <th>flax</th>\n",
       "      <th>flaxseed</th>\n",
       "      <th>silk</th>\n",
       "      <th>maplesugar</th>\n",
       "      <th>canesugar</th>\n",
       "      <th>molasses</th>\n",
       "      <th>beewax</th>\n",
       "      <th>honey</th>\n",
       "      <th>manufactures_val</th>\n",
       "      <th>animals_val</th>\n",
       "    </tr>\n",
       "  </thead>\n",
       "  <tbody>\n",
       "    <tr>\n",
       "      <th>0</th>\n",
       "      <td>38</td>\n",
       "      <td>50</td>\n",
       "      <td>2</td>\n",
       "      <td>0</td>\n",
       "      <td>1</td>\n",
       "      <td>0</td>\n",
       "      <td>4</td>\n",
       "      <td>0</td>\n",
       "      <td>0</td>\n",
       "      <td>210</td>\n",
       "      <td>...</td>\n",
       "      <td>0</td>\n",
       "      <td>0</td>\n",
       "      <td>0</td>\n",
       "      <td>0</td>\n",
       "      <td>0</td>\n",
       "      <td>0</td>\n",
       "      <td>0</td>\n",
       "      <td>0</td>\n",
       "      <td>15</td>\n",
       "      <td>28</td>\n",
       "    </tr>\n",
       "  </tbody>\n",
       "</table>\n",
       "<p>1 rows × 44 columns</p>\n",
       "</div>"
      ],
      "text/plain": [
       "   improved  machine_val  horse  mules  milkcow  oxen  cattle  sheep  swine   \n",
       "0        38           50      2      0        1     0       4      0      0  \\\n",
       "\n",
       "   livestock_val  ...  flax  flaxseed  silk  maplesugar  canesugar  molasses   \n",
       "0            210  ...     0         0     0           0          0         0  \\\n",
       "\n",
       "   beewax  honey  manufactures_val  animals_val  \n",
       "0       0      0                15           28  \n",
       "\n",
       "[1 rows x 44 columns]"
      ]
     },
     "execution_count": 4,
     "metadata": {},
     "output_type": "execute_result"
    }
   ],
   "source": [
    "df_diversity = pd.read_csv('1860Midd_final.csv')\n",
    "df_diversity = df_diversity.drop(['Name', 'town', 'unimproved', 'cash_val', 'produce_val', 'pg_num', 'year', 'rown'], axis=1)\n",
    "df_diversity.head(1)"
   ]
  },
  {
   "cell_type": "code",
   "execution_count": 5,
   "metadata": {},
   "outputs": [
    {
     "name": "stdout",
     "output_type": "stream",
     "text": [
      "(159, 44)\n",
      "(159, 44)\n"
     ]
    }
   ],
   "source": [
    "df_diversity = df_diversity.to_numpy()\n",
    "print(df_diversity.shape)\n",
    "df_diversity = 1 * (df_diversity > 0)\n",
    "print(df_diversity.shape)"
   ]
  },
  {
   "cell_type": "code",
   "execution_count": 6,
   "metadata": {},
   "outputs": [
    {
     "name": "stdout",
     "output_type": "stream",
     "text": [
      "(159,)\n"
     ]
    }
   ],
   "source": [
    "df3 = pd.read_csv('./1860final_w_TotalOutput.csv')\n",
    "div_score = np.sum(df_diversity, axis=1)\n",
    "print(div_score.shape)\n",
    "df3['diversity_score'] = div_score"
   ]
  },
  {
   "cell_type": "code",
   "execution_count": 7,
   "metadata": {},
   "outputs": [],
   "source": [
    "entropy_score = df3[\"entropy_score\"].to_numpy()\n",
    "df3['diversity_squared'] = np.square(div_score)\n",
    "df3['e_to_diversity'] = np.exp(div_score)\n",
    "df3['entropy_squared'] = np.square(entropy_score)"
   ]
  },
  {
   "attachments": {},
   "cell_type": "markdown",
   "metadata": {},
   "source": [
    "# generated diversity score"
   ]
  },
  {
   "cell_type": "code",
   "execution_count": 8,
   "metadata": {},
   "outputs": [],
   "source": [
    "cols2 = ['improved', 'unimproved', \n",
    "       'machine_val', 'horse', 'mules']\n",
    "# Fit regression model (using the natural log of one of the regressors)\n",
    "# results = smf.ols(\"Lottery ~ Literacy + np.log(Pop1831)\", data=dat).fit()\n",
    "reg1 = smf.ols(\"revenue_per_land ~ diversity_score\", data=df3).fit()\n",
    "# print(reg1.summary())\n",
    "reg2 = smf.ols(\"revenue_per_land ~ diversity_score + improved + unimproved\", data=df3).fit()"
   ]
  },
  {
   "cell_type": "code",
   "execution_count": 9,
   "metadata": {},
   "outputs": [],
   "source": [
    "reg3 = smf.ols(\"revenue_per_land ~ diversity_score + diversity_squared + improved + unimproved\", data=df3).fit()\n",
    "reg4 = smf.ols(\"revenue_per_land ~ entropy_score + improved + unimproved\", data=df3).fit()\n",
    "reg5 = smf.ols(\"revenue_per_land ~ entropy_score + entropy_squared + improved + unimproved\", data=df3).fit()\n",
    "reg6 = smf.ols(\"revenue_per_land ~ entropy_score + machine_val + cash_val\", data=df3).fit()\n",
    "reg7 = smf.ols(\"revenue_per_land ~ entropy_score + machine_val + cash_val + livestock_val + animals_val\", data=df3).fit()"
   ]
  },
  {
   "cell_type": "code",
   "execution_count": 10,
   "metadata": {},
   "outputs": [
    {
     "name": "stdout",
     "output_type": "stream",
     "text": [
      "                            OLS Regression Results                            \n",
      "==============================================================================\n",
      "Dep. Variable:       revenue_per_land   R-squared:                       0.000\n",
      "Model:                            OLS   Adj. R-squared:                 -0.006\n",
      "Method:                 Least Squares   F-statistic:                   0.03932\n",
      "Date:                Wed, 17 May 2023   Prob (F-statistic):              0.843\n",
      "Time:                        23:26:27   Log-Likelihood:                -485.98\n",
      "No. Observations:                 159   AIC:                             976.0\n",
      "Df Residuals:                     157   BIC:                             982.1\n",
      "Df Model:                           1                                         \n",
      "Covariance Type:            nonrobust                                         \n",
      "===================================================================================\n",
      "                      coef    std err          t      P>|t|      [0.025      0.975]\n",
      "-----------------------------------------------------------------------------------\n",
      "Intercept          10.1214      2.826      3.582      0.000       4.540      15.703\n",
      "diversity_score     0.0340      0.172      0.198      0.843      -0.305       0.373\n",
      "==============================================================================\n",
      "Omnibus:                       85.428   Durbin-Watson:                   2.090\n",
      "Prob(Omnibus):                  0.000   Jarque-Bera (JB):              389.340\n",
      "Skew:                           2.026   Prob(JB):                     2.86e-85\n",
      "Kurtosis:                       9.507   Cond. No.                         114.\n",
      "==============================================================================\n",
      "\n",
      "Notes:\n",
      "[1] Standard Errors assume that the covariance matrix of the errors is correctly specified.\n"
     ]
    }
   ],
   "source": [
    "print(reg1.summary())"
   ]
  },
  {
   "cell_type": "code",
   "execution_count": 11,
   "metadata": {},
   "outputs": [],
   "source": [
    "stargazer = Stargazer([reg2, reg3, reg4, reg5, reg6, reg7])"
   ]
  },
  {
   "cell_type": "code",
   "execution_count": 12,
   "metadata": {},
   "outputs": [
    {
     "name": "stdout",
     "output_type": "stream",
     "text": [
      "\\begin{table}[!htbp] \\centering\n",
      "\\begin{tabular}{@{\\extracolsep{5pt}}lcccccc}\n",
      "\\\\[-1.8ex]\\hline\n",
      "\\hline \\\\[-1.8ex]\n",
      "& \\multicolumn{6}{c}{\\textit{Dependent variable:}} \\\n",
      "\\cr \\cline{6-7}\n",
      "\\\\[-1.8ex] & (1) & (2) & (3) & (4) & (5) & (6) \\\\\n",
      "\\hline \\\\[-1.8ex]\n",
      " Intercept & 7.078$^{***}$ & 0.862$^{}$ & 22.706$^{***}$ & 45.383$^{***}$ & 21.088$^{***}$ & 20.987$^{***}$ \\\\\n",
      "  & (2.708) & (13.633) & (2.967) & (8.271) & (3.092) & (2.931) \\\\\n",
      " animals_val & & & & & & 0.032$^{***}$ \\\\\n",
      "  & & & & & & (0.012) \\\\\n",
      " cash_val & & & & & -0.001$^{***}$ & -0.001$^{***}$ \\\\\n",
      "  & & & & & (0.000) & (0.000) \\\\\n",
      " diversity_score & 0.412$^{**}$ & 1.201$^{}$ & & & & \\\\\n",
      "  & (0.177) & (1.706) & & & & \\\\\n",
      " diversity_squared & & -0.025$^{}$ & & & & \\\\\n",
      "  & & (0.053) & & & & \\\\\n",
      " entropy_score & & & -5.587$^{***}$ & -37.489$^{***}$ & -5.766$^{***}$ & -6.239$^{***}$ \\\\\n",
      "  & & & (1.694) & (11.022) & (1.770) & (1.696) \\\\\n",
      " entropy_squared & & & & 10.713$^{***}$ & & \\\\\n",
      "  & & & & (3.659) & & \\\\\n",
      " improved & -0.031$^{***}$ & -0.031$^{***}$ & -0.027$^{***}$ & -0.025$^{***}$ & & \\\\\n",
      "  & (0.007) & (0.007) & (0.006) & (0.006) & & \\\\\n",
      " livestock_val & & & & & & 0.002$^{***}$ \\\\\n",
      "  & & & & & & (0.001) \\\\\n",
      " machine_val & & & & & 0.015$^{*}$ & 0.013$^{*}$ \\\\\n",
      "  & & & & & (0.008) & (0.008) \\\\\n",
      " unimproved & -0.009$^{}$ & -0.008$^{}$ & -0.004$^{}$ & -0.005$^{}$ & & \\\\\n",
      "  & (0.013) & (0.013) & (0.013) & (0.012) & & \\\\\n",
      "\\hline \\\\[-1.8ex]\n",
      " Observations & 159 & 159 & 159 & 159 & 159 & 159 \\\\\n",
      " $R^2$ & 0.140 & 0.141 & 0.168 & 0.212 & 0.101 & 0.204 \\\\\n",
      " Adjusted $R^2$ & 0.123 & 0.119 & 0.152 & 0.192 & 0.083 & 0.178 \\\\\n",
      " Residual Std. Error & 4.831(df = 155) & 4.843(df = 154) & 4.750(df = 155) & 4.638(df = 154) & 4.940(df = 155) & 4.678(df = 153)  \\\\\n",
      " F Statistic & 8.407$^{***}$ (df = 3.0; 155.0) & 6.327$^{***}$ (df = 4.0; 154.0) & 10.459$^{***}$ (df = 3.0; 155.0) & 10.370$^{***}$ (df = 4.0; 154.0) & 5.785$^{***}$ (df = 3.0; 155.0) & 7.829$^{***}$ (df = 5.0; 153.0) \\\\\n",
      "\\hline\n",
      "\\hline \\\\[-1.8ex]\n",
      "\\textit{Note:} & \\multicolumn{6}{r}{$^{*}$p$<$0.1; $^{**}$p$<$0.05; $^{***}$p$<$0.01} \\\\\n",
      "\\end{tabular}\n",
      "\\end{table}\n"
     ]
    }
   ],
   "source": [
    "print(stargazer.render_latex())"
   ]
  }
 ],
 "metadata": {
  "kernelspec": {
   "display_name": "ml-0451",
   "language": "python",
   "name": "python3"
  },
  "language_info": {
   "codemirror_mode": {
    "name": "ipython",
    "version": 3
   },
   "file_extension": ".py",
   "mimetype": "text/x-python",
   "name": "python",
   "nbconvert_exporter": "python",
   "pygments_lexer": "ipython3",
   "version": "3.9.16"
  },
  "orig_nbformat": 4
 },
 "nbformat": 4,
 "nbformat_minor": 2
}
