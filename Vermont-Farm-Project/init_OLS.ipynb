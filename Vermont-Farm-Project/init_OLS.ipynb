{
 "cells": [
  {
   "cell_type": "code",
   "execution_count": 1,
   "metadata": {},
   "outputs": [],
   "source": [
    "import numpy as np\n",
    "import pandas as pd\n",
    "import seaborn as sns\n",
    "from sklearn.linear_model import LinearRegression\n",
    "from sklearn.linear_model import LogisticRegression\n",
    "from source import Vermont_Farm\n",
    "VF = Vermont_Farm()"
   ]
  },
  {
   "cell_type": "code",
   "execution_count": 2,
   "metadata": {},
   "outputs": [],
   "source": [
    "from statsmodels.compat import lzip\n",
    "import numpy as np\n",
    "import pandas as pd\n",
    "import statsmodels.formula.api as smf\n",
    "import statsmodels.stats.api as sms\n",
    "import matplotlib.pyplot as plt\n",
    "from stargazer.stargazer import Stargazer"
   ]
  },
  {
   "cell_type": "code",
   "execution_count": 3,
   "metadata": {},
   "outputs": [],
   "source": [
    "%load_ext autoreload\n",
    "%autoreload 2"
   ]
  },
  {
   "cell_type": "code",
   "execution_count": 4,
   "metadata": {},
   "outputs": [],
   "source": [
    "df50 = pd.read_csv('./1850final_w_TotalOutput.csv')"
   ]
  },
  {
   "cell_type": "code",
   "execution_count": 5,
   "metadata": {},
   "outputs": [],
   "source": [
    "from source import Vermont_Farm\n",
    "VF = Vermont_Farm()\n",
    "df60 = pd.read_csv('./1860final_w_TotalOutput.csv')"
   ]
  },
  {
   "attachments": {},
   "cell_type": "markdown",
   "metadata": {},
   "source": [
    "* L: land, improved and unimproved\n",
    "* K: capital, cash_val, machine_val, livestock_val\n",
    "* Labor: Human Labor, not known. Animal labor: horse, mules, milkcow"
   ]
  },
  {
   "cell_type": "code",
   "execution_count": 6,
   "metadata": {},
   "outputs": [
    {
     "name": "stdout",
     "output_type": "stream",
     "text": [
      "                            OLS Regression Results                            \n",
      "==============================================================================\n",
      "Dep. Variable:       log_total_output   R-squared:                       0.884\n",
      "Model:                            OLS   Adj. R-squared:                  0.879\n",
      "Method:                 Least Squares   F-statistic:                     177.1\n",
      "Date:                Thu, 18 May 2023   Prob (F-statistic):           1.70e-72\n",
      "Time:                        00:03:17   Log-Likelihood:                -31.726\n",
      "No. Observations:                 170   AIC:                             79.45\n",
      "Df Residuals:                     162   BIC:                             104.5\n",
      "Df Model:                           7                                         \n",
      "Covariance Type:            nonrobust                                         \n",
      "===================================================================================\n",
      "                      coef    std err          t      P>|t|      [0.025      0.975]\n",
      "-----------------------------------------------------------------------------------\n",
      "Intercept           4.1333      0.256     16.163      0.000       3.628       4.638\n",
      "log_improved        0.1082      0.064      1.686      0.094      -0.019       0.235\n",
      "log_unimproved      0.0131      0.015      0.858      0.392      -0.017       0.043\n",
      "log_cash_val        0.0578      0.062      0.938      0.350      -0.064       0.179\n",
      "log_machine_val     0.6455      0.040     16.278      0.000       0.567       0.724\n",
      "log_horse           0.1142      0.055      2.075      0.040       0.006       0.223\n",
      "log_mules          -0.0746      0.437     -0.171      0.864      -0.937       0.787\n",
      "log_milkcow         0.3472      0.057      6.093      0.000       0.235       0.460\n",
      "==============================================================================\n",
      "Omnibus:                       79.810   Durbin-Watson:                   1.797\n",
      "Prob(Omnibus):                  0.000   Jarque-Bera (JB):              328.494\n",
      "Skew:                           1.795   Prob(JB):                     4.66e-72\n",
      "Kurtosis:                       8.787   Cond. No.                         194.\n",
      "==============================================================================\n",
      "\n",
      "Notes:\n",
      "[1] Standard Errors assume that the covariance matrix of the errors is correctly specified.\n"
     ]
    }
   ],
   "source": [
    "OLS50 = smf.ols(formula='log_total_output ~ log_improved + log_unimproved + log_cash_val + log_machine_val + log_horse + log_mules + log_milkcow', data=df50).fit()\n",
    "print(OLS50.summary())"
   ]
  },
  {
   "cell_type": "code",
   "execution_count": 7,
   "metadata": {},
   "outputs": [
    {
     "name": "stdout",
     "output_type": "stream",
     "text": [
      "                            OLS Regression Results                            \n",
      "==============================================================================\n",
      "Dep. Variable:       log_total_output   R-squared:                       0.752\n",
      "Model:                            OLS   Adj. R-squared:                  0.742\n",
      "Method:                 Least Squares   F-statistic:                     76.92\n",
      "Date:                Thu, 18 May 2023   Prob (F-statistic):           1.51e-43\n",
      "Time:                        00:03:17   Log-Likelihood:                -48.372\n",
      "No. Observations:                 159   AIC:                             110.7\n",
      "Df Residuals:                     152   BIC:                             132.2\n",
      "Df Model:                           6                                         \n",
      "Covariance Type:            nonrobust                                         \n",
      "===================================================================================\n",
      "                      coef    std err          t      P>|t|      [0.025      0.975]\n",
      "-----------------------------------------------------------------------------------\n",
      "Intercept           3.1889      0.316     10.095      0.000       2.565       3.813\n",
      "log_improved        0.3627      0.075      4.838      0.000       0.215       0.511\n",
      "log_unimproved     -0.0189      0.021     -0.901      0.369      -0.060       0.022\n",
      "log_cash_val        0.0910      0.067      1.353      0.178      -0.042       0.224\n",
      "log_machine_val     0.0956      0.046      2.089      0.038       0.005       0.186\n",
      "log_horse           0.3925      0.061      6.424      0.000       0.272       0.513\n",
      "log_mules                0          0        nan        nan           0           0\n",
      "log_milkcow         0.1832      0.076      2.408      0.017       0.033       0.334\n",
      "==============================================================================\n",
      "Omnibus:                       23.764   Durbin-Watson:                   1.820\n",
      "Prob(Omnibus):                  0.000   Jarque-Bera (JB):               83.297\n",
      "Skew:                           0.447   Prob(JB):                     8.17e-19\n",
      "Kurtosis:                       6.431   Cond. No.                          inf\n",
      "==============================================================================\n",
      "\n",
      "Notes:\n",
      "[1] Standard Errors assume that the covariance matrix of the errors is correctly specified.\n",
      "[2] The smallest eigenvalue is      0. This might indicate that there are\n",
      "strong multicollinearity problems or that the design matrix is singular.\n"
     ]
    },
    {
     "name": "stderr",
     "output_type": "stream",
     "text": [
      "/home/xianzhiwang/miniforge3/envs/ml-0451/lib/python3.9/site-packages/statsmodels/regression/linear_model.py:1934: RuntimeWarning: divide by zero encountered in scalar divide\n",
      "  return np.sqrt(eigvals[0]/eigvals[-1])\n"
     ]
    }
   ],
   "source": [
    "\n",
    "OLS60 = smf.ols(formula='log_total_output ~ log_improved + log_unimproved + log_cash_val + log_machine_val + log_horse + log_mules + log_milkcow', data=df60).fit()\n",
    "print(OLS60.summary())"
   ]
  },
  {
   "cell_type": "code",
   "execution_count": 8,
   "metadata": {},
   "outputs": [],
   "source": [
    "stargazer = Stargazer([OLS50, OLS60])"
   ]
  },
  {
   "cell_type": "code",
   "execution_count": 9,
   "metadata": {},
   "outputs": [
    {
     "name": "stdout",
     "output_type": "stream",
     "text": [
      "\\begin{table}[!htbp] \\centering\n",
      "\\begin{tabular}{@{\\extracolsep{5pt}}lcc}\n",
      "\\\\[-1.8ex]\\hline\n",
      "\\hline \\\\[-1.8ex]\n",
      "& \\multicolumn{2}{c}{\\textit{Dependent variable:}} \\\n",
      "\\cr \\cline{2-3}\n",
      "\\\\[-1.8ex] & (1) & (2) \\\\\n",
      "\\hline \\\\[-1.8ex]\n",
      " Intercept & 4.133$^{***}$ & 3.189$^{***}$ \\\\\n",
      "  & (0.256) & (0.316) \\\\\n",
      " log_cash_val & 0.058$^{}$ & 0.091$^{}$ \\\\\n",
      "  & (0.062) & (0.067) \\\\\n",
      " log_horse & 0.114$^{**}$ & 0.393$^{***}$ \\\\\n",
      "  & (0.055) & (0.061) \\\\\n",
      " log_improved & 0.108$^{*}$ & 0.363$^{***}$ \\\\\n",
      "  & (0.064) & (0.075) \\\\\n",
      " log_machine_val & 0.645$^{***}$ & 0.096$^{**}$ \\\\\n",
      "  & (0.040) & (0.046) \\\\\n",
      " log_milkcow & 0.347$^{***}$ & 0.183$^{**}$ \\\\\n",
      "  & (0.057) & (0.076) \\\\\n",
      " log_mules & -0.075$^{}$ & 0.000$^{***}$ \\\\\n",
      "  & (0.437) & (0.000) \\\\\n",
      " log_unimproved & 0.013$^{}$ & -0.019$^{}$ \\\\\n",
      "  & (0.015) & (0.021) \\\\\n",
      "\\hline \\\\[-1.8ex]\n",
      " Observations & 170 & 159 \\\\\n",
      " $R^2$ & 0.884 & 0.752 \\\\\n",
      " Adjusted $R^2$ & 0.879 & 0.742 \\\\\n",
      " Residual Std. Error & 0.299(df = 162) & 0.335(df = 152)  \\\\\n",
      " F Statistic & 177.114$^{***}$ (df = 7.0; 162.0) & 76.919$^{***}$ (df = 6.0; 152.0) \\\\\n",
      "\\hline\n",
      "\\hline \\\\[-1.8ex]\n",
      "\\textit{Note:} & \\multicolumn{2}{r}{$^{*}$p$<$0.1; $^{**}$p$<$0.05; $^{***}$p$<$0.01} \\\\\n",
      "\\end{tabular}\n",
      "\\end{table}\n"
     ]
    }
   ],
   "source": [
    "print(stargazer.render_latex())"
   ]
  }
 ],
 "metadata": {
  "kernelspec": {
   "display_name": "ml-0451",
   "language": "python",
   "name": "python3"
  },
  "language_info": {
   "codemirror_mode": {
    "name": "ipython",
    "version": 3
   },
   "file_extension": ".py",
   "mimetype": "text/x-python",
   "name": "python",
   "nbconvert_exporter": "python",
   "pygments_lexer": "ipython3",
   "version": "3.9.16"
  },
  "orig_nbformat": 4
 },
 "nbformat": 4,
 "nbformat_minor": 2
}
